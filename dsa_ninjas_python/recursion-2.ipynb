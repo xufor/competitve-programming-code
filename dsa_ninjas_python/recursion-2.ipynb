{
 "cells": [
  {
   "cell_type": "code",
   "execution_count": null,
   "metadata": {},
   "outputs": [],
   "source": [
    "# relace character in a string with given character\n",
    "# c -> character to be replaced\n",
    "# r -> character to replace with\n",
    "def replace(word, c, r, i=0):\n",
    "    if i == len(word):\n",
    "        return ''\n",
    "    # current character\n",
    "    curr = word[i]\n",
    "    return (r if curr == c else curr) + replace(word, c, r, i + 1)\n",
    "\n",
    "\n",
    "replace('lallantop', 'l', 'p')\n"
   ]
  },
  {
   "cell_type": "code",
   "execution_count": null,
   "metadata": {},
   "outputs": [],
   "source": [
    "# remove given character from string\n",
    "# c -> character to be removed\n",
    "def remove(word, c, i=0):\n",
    "    if i == len(word):\n",
    "        return ''\n",
    "    # current character\n",
    "    curr = word[i]\n",
    "    return ('' if curr == c else curr) + remove(word, c, i + 1)\n",
    "\n",
    "\n",
    "remove('lallantop', 'l')\n"
   ]
  },
  {
   "cell_type": "code",
   "execution_count": null,
   "metadata": {},
   "outputs": [],
   "source": [
    "# replace the occurance of pi with 3.14\n",
    "def replace_pi(word, i=0):\n",
    "    # ignoring the cases when 0,1 characters are left to parse \n",
    "    if i >= len(word) - 1:\n",
    "        return ''\n",
    "    curr = word[i]\n",
    "    next = word[i+1]\n",
    "    if curr == 'p' and next == 'i':\n",
    "        return '3.14' + replace_pi(word, i+2)\n",
    "    return curr + replace_pi(word, i+1)\n",
    "\n",
    "replace_pi('pipeline pipi pip octopi')\n"
   ]
  },
  {
   "attachments": {},
   "cell_type": "markdown",
   "metadata": {},
   "source": []
  }
 ],
 "metadata": {
  "kernelspec": {
   "display_name": "Python 3",
   "language": "python",
   "name": "python3"
  },
  "language_info": {
   "codemirror_mode": {
    "name": "ipython",
    "version": 3
   },
   "file_extension": ".py",
   "mimetype": "text/x-python",
   "name": "python",
   "nbconvert_exporter": "python",
   "pygments_lexer": "ipython3",
   "version": "3.10.6"
  },
  "orig_nbformat": 4,
  "vscode": {
   "interpreter": {
    "hash": "916dbcbb3f70747c44a77c7bcd40155683ae19c65e1c03b4aa3499c5328201f1"
   }
  }
 },
 "nbformat": 4,
 "nbformat_minor": 2
}
