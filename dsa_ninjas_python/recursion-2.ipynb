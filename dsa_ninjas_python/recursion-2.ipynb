{
 "cells": [
  {
   "cell_type": "code",
   "execution_count": 7,
   "metadata": {},
   "outputs": [
    {
     "data": {
      "text/plain": [
       "'pappaceupization'"
      ]
     },
     "execution_count": 7,
     "metadata": {},
     "output_type": "execute_result"
    }
   ],
   "source": [
    "def replace(word, target_character, replacement_character, i=0):\n",
    "    if i == len(word):\n",
    "        return ''\n",
    "    if word[i] == target_character:\n",
    "        return replacement_character + replace(word, target_character, replacement_character, i + 1)\n",
    "    return word[i] + replace(word, target_character, replacement_character, i + 1)\n",
    "    # return (replacement_character if word[i] == target_character else word[i]) + replace(word, target_character, replacement_character, i + 1)\n",
    "\n",
    "\n",
    "replace('laplaceulization', 'l', 'p')\n"
   ]
  }
 ],
 "metadata": {
  "kernelspec": {
   "display_name": "Python 3",
   "language": "python",
   "name": "python3"
  },
  "language_info": {
   "codemirror_mode": {
    "name": "ipython",
    "version": 3
   },
   "file_extension": ".py",
   "mimetype": "text/x-python",
   "name": "python",
   "nbconvert_exporter": "python",
   "pygments_lexer": "ipython3",
   "version": "3.10.6"
  },
  "orig_nbformat": 4,
  "vscode": {
   "interpreter": {
    "hash": "916dbcbb3f70747c44a77c7bcd40155683ae19c65e1c03b4aa3499c5328201f1"
   }
  }
 },
 "nbformat": 4,
 "nbformat_minor": 2
}
