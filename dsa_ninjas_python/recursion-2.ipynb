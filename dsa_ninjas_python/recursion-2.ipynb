{
 "cells": [
  {
   "cell_type": "code",
   "execution_count": null,
   "metadata": {},
   "outputs": [],
   "source": [
    "# relace character in a string with given character\n",
    "# c -> character to be replaced\n",
    "# r -> character to replace with\n",
    "def replace(word, c, r, i=0):\n",
    "    if i == len(word):\n",
    "        return ''\n",
    "    # current character\n",
    "    curr = word[i]\n",
    "    return (r if curr == c else curr) + replace(word, c, r, i + 1)\n",
    "\n",
    "\n",
    "replace('lallantop', 'l', 'p')\n"
   ]
  },
  {
   "cell_type": "code",
   "execution_count": null,
   "metadata": {},
   "outputs": [],
   "source": [
    "# remove given character from string\n",
    "# c -> character to be removed\n",
    "def remove(word, c, i=0):\n",
    "    if i == len(word):\n",
    "        return ''\n",
    "    # current character\n",
    "    curr = word[i]\n",
    "    return ('' if curr == c else curr) + remove(word, c, i + 1)\n",
    "\n",
    "\n",
    "remove('lallantop', 'l')\n"
   ]
  },
  {
   "cell_type": "code",
   "execution_count": null,
   "metadata": {},
   "outputs": [],
   "source": [
    "# replace the occurance of pi with 3.14\n",
    "def replace_pi(word, i=0):\n",
    "    # ignoring the cases when 0,1 characters are left to parse\n",
    "    if i >= len(word) - 1:\n",
    "        return ''\n",
    "    curr = word[i]\n",
    "    next = word[i + 1]\n",
    "    if curr == 'p' and next == 'i':\n",
    "        return '3.14' + replace_pi(word, i + 2)\n",
    "    return curr + replace_pi(word, i + 1)\n",
    "\n",
    "\n",
    "replace_pi('pipeline pipi pip octopi')\n"
   ]
  },
  {
   "cell_type": "code",
   "execution_count": null,
   "metadata": {},
   "outputs": [],
   "source": [
    "# remove consecutive duplicate characters recursively\n",
    "def remove_consecutive_duplicates(word, i=0):\n",
    "    if i == len(word):\n",
    "        return ''\n",
    "    # get current character\n",
    "    curr = word[i]\n",
    "    # get previous character and if no previous available then set to empty string\n",
    "    prev = word[i - 1] if i > 0 else ''\n",
    "    # if current charater is equal to previous then don't append current character to output\n",
    "    if curr == prev:\n",
    "        return remove_consecutive_duplicates(word, i + 1)\n",
    "    return curr + remove_consecutive_duplicates(word, i + 1)\n",
    "\n",
    "\n",
    "remove_consecutive_duplicates('xxxyyyzwwzzzxyz')\n"
   ]
  },
  {
   "cell_type": "code",
   "execution_count": null,
   "metadata": {},
   "outputs": [],
   "source": [
    "# binary search\n",
    "# target -> the element we are searching\n",
    "def binary_search(lst, target, start, end):\n",
    "    # below condition can't be start >= end\n",
    "    # it will fail for the case [3] and we are searching for 3\n",
    "    # and also for the case for the case [10, 20, 40] and we are searching for 40\n",
    "\n",
    "    # essentially this algo creates windows by adjusting start and end using mid, where the target element might exist\n",
    "    # start > end means that the window in which the element might exist has no elements\n",
    "    # in other words we have ended up with a window which does not exist in the original list\n",
    "    # therefore we can stop looking for the target now\n",
    "    if start > end:\n",
    "        return False\n",
    "    # note: integer division floors the value after division of operands\n",
    "    mid = (start + end) // 2\n",
    "    mid_element = lst[mid]\n",
    "    if target == mid_element:\n",
    "        return True\n",
    "    elif target < mid_element:\n",
    "        # since the we have checked mid already we can safely skip this position for further checking in the smaller window\n",
    "        # therfore we pass mid - 1 and mid + 1  to further recursive calls\n",
    "        return binary_search(lst, target, start, mid - 1)\n",
    "    return binary_search(lst, target, mid + 1, end)\n",
    "\n",
    "\n",
    "lst1 = [10, 20, 40]\n",
    "binary_search(lst1, 40, 0, len(lst1) - 1)\n"
   ]
  }
 ],
 "metadata": {
  "kernelspec": {
   "display_name": "Python 3",
   "language": "python",
   "name": "python3"
  },
  "language_info": {
   "codemirror_mode": {
    "name": "ipython",
    "version": 3
   },
   "file_extension": ".py",
   "mimetype": "text/x-python",
   "name": "python",
   "nbconvert_exporter": "python",
   "pygments_lexer": "ipython3",
   "version": "3.10.6"
  },
  "orig_nbformat": 4,
  "vscode": {
   "interpreter": {
    "hash": "916dbcbb3f70747c44a77c7bcd40155683ae19c65e1c03b4aa3499c5328201f1"
   }
  }
 },
 "nbformat": 4,
 "nbformat_minor": 2
}
