{
 "cells": [
  {
   "cell_type": "code",
   "execution_count": null,
   "metadata": {},
   "outputs": [],
   "source": [
    "# optimized solution to find x^n\n",
    "def power(x, n):\n",
    "    if n == 0:\n",
    "        return 1\n",
    "    if n % 2 == 0:\n",
    "        return power(x, n / 2) ** 2\n",
    "    else:\n",
    "        return x * power(x, n // 2) ** 2\n",
    "\n",
    "\n",
    "power(2, 5)\n"
   ]
  },
  {
   "cell_type": "code",
   "execution_count": null,
   "metadata": {},
   "outputs": [],
   "source": [
    "# equilibrium point in an array\n",
    "def equilibrium(lst):\n",
    "    # falsy values in python: '', 0, False, None, [], (), {}\n",
    "    if not lst:\n",
    "        return 0\n",
    "    lsum, rsum = 0, sum(lst)\n",
    "    for i in range(0, len(lst)):\n",
    "        curr = lst[i]\n",
    "        if lsum == rsum - lsum - curr:\n",
    "            return i\n",
    "        lsum += curr\n",
    "    return -1\n"
   ]
  },
  {
   "cell_type": "code",
   "execution_count": null,
   "metadata": {},
   "outputs": [],
   "source": [
    "# Test case 1: Equilibrium index exists\n",
    "arr1 = [1, 2, 3, 4, 3, 2, 1]\n",
    "# Equilibrium index: 3, sum of elements before: 6, sum of elements after: 6\n",
    "assert equilibrium(arr1) == 3\n",
    "\n",
    "# Test case 2: Equilibrium index exists\n",
    "arr2 = [1, 2, 3, 4, 5, 4, 3, 2, 1]\n",
    "# Equilibrium index: 4, sum of elements before: 10, sum of elements after: 10\n",
    "assert equilibrium(arr2) == 4\n",
    "\n",
    "# Test case 3: Equilibrium index does not exist\n",
    "arr3 = [1, 2, 3, 4, 5]\n",
    "# No equilibrium index exists\n",
    "assert equilibrium(arr3) == -1\n",
    "\n",
    "# Test case 4: Equilibrium index at index 0\n",
    "arr4 = [0, 0, 0, 0]\n",
    "# Equilibrium index: 0, sum of elements before: 0, sum of elements after: 0\n",
    "assert equilibrium(arr4) == 0\n",
    "\n",
    "# Test case 5: Equilibrium index at the last index\n",
    "arr5 = [-1, 2, 3, -3, -1]\n",
    "assert equilibrium(arr5) == 1\n",
    "\n",
    "# Test case 6: Empty list\n",
    "arr6 = []\n",
    "# Empty list has an equilibrium index at index 0 (as specified in the problem)\n",
    "assert equilibrium(arr6) == 0\n",
    "\n",
    "# Test case 7: Equilibrium index exists with negative numbers\n",
    "arr7 = [-1, -2, -3, -4, -5, -4, -3, -2, -1]\n",
    "# Equilibrium index: 4, sum of elements before: -15, sum of elements after: -15\n",
    "assert equilibrium(arr7) == 4\n"
   ]
  },
  {
   "cell_type": "code",
   "execution_count": null,
   "metadata": {},
   "outputs": [],
   "source": [
    "# list intersection\n",
    "def intersection(lst1, lst2):\n",
    "    lst1_map, result_lst = {}, []\n",
    "    for n in lst1:\n",
    "        lst1_map[n] = True\n",
    "    for n in lst2:\n",
    "        if lst1_map.get(n):\n",
    "            result_lst.append(n)\n",
    "            # mark the entry as false to prevent the number from appearing twice in result\n",
    "            lst1_map[n] = False\n",
    "    return result_lst\n"
   ]
  },
  {
   "cell_type": "code",
   "execution_count": null,
   "metadata": {},
   "outputs": [],
   "source": [
    "# Test case 1: Common values exist\n",
    "arr1 = [1, 2, 3, 4, 5]\n",
    "arr2 = [4, 5, 6, 7, 8]\n",
    "# Intersection: [4, 5]\n",
    "assert str(intersection(arr1, arr2)) == \"[4, 5]\"\n",
    "\n",
    "# Test case 2: No common values\n",
    "arr3 = [1, 2, 3]\n",
    "arr4 = [4, 5, 6]\n",
    "# No intersection\n",
    "assert str(intersection(arr3, arr4)) == \"[]\"\n",
    "\n",
    "# Test case 3: One empty list\n",
    "arr5 = [1, 2, 3]\n",
    "arr6 = []\n",
    "# No intersection\n",
    "assert str(intersection(arr5, arr6)) == \"[]\"\n",
    "\n",
    "# Test case 4: Both empty lists\n",
    "arr7 = []\n",
    "arr8 = []\n",
    "# No intersection\n",
    "assert str(intersection(arr7, arr8)) == \"[]\"\n",
    "\n",
    "# Test case 5: Common values with duplicates\n",
    "arr9 = [1, 2, 2, 3, 4, 5, 5]\n",
    "arr10 = [2, 3, 4, 4, 5, 6]\n",
    "# Intersection: [2, 3, 4, 5]\n",
    "assert str(intersection(arr9, arr10)) == \"[2, 3, 4, 5]\"\n"
   ]
  }
 ],
 "metadata": {
  "kernelspec": {
   "display_name": "Python 3",
   "language": "python",
   "name": "python3"
  },
  "language_info": {
   "codemirror_mode": {
    "name": "ipython",
    "version": 3
   },
   "file_extension": ".py",
   "mimetype": "text/x-python",
   "name": "python",
   "nbconvert_exporter": "python",
   "pygments_lexer": "ipython3",
   "version": "3.10.6"
  },
  "orig_nbformat": 4
 },
 "nbformat": 4,
 "nbformat_minor": 2
}
