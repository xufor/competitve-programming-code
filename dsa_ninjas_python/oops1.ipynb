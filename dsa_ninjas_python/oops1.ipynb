{
 "cells": [
  {
   "cell_type": "code",
   "execution_count": null,
   "metadata": {},
   "outputs": [],
   "source": [
    "class Student:\n",
    "    pass\n"
   ]
  },
  {
   "cell_type": "code",
   "execution_count": null,
   "metadata": {},
   "outputs": [],
   "source": [
    "s1 = Student()\n",
    "print(type(s1))\n",
    "lst = list()\n",
    "print(type(lst))\n",
    "print(s1)\n"
   ]
  },
  {
   "cell_type": "code",
   "execution_count": null,
   "metadata": {},
   "outputs": [],
   "source": [
    "s2 = Student()\n",
    "s2.name = \"Robert\"\n",
    "print(s2.name)\n",
    "try:\n",
    "    print(s2.some_attribute)\n",
    "except Exception as e:\n",
    "    print(e)\n"
   ]
  },
  {
   "cell_type": "code",
   "execution_count": null,
   "metadata": {},
   "outputs": [],
   "source": [
    "# get all attributes in a dictionary form\n",
    "s2.__dict__\n"
   ]
  },
  {
   "cell_type": "code",
   "execution_count": null,
   "metadata": {},
   "outputs": [],
   "source": [
    "# check if an object has an attribute or not\n",
    "hasattr(s2, \"name\")\n"
   ]
  },
  {
   "cell_type": "code",
   "execution_count": null,
   "metadata": {},
   "outputs": [],
   "source": [
    "# retrieve value of an attribute\n",
    "getattr(s2, \"name\")\n"
   ]
  },
  {
   "cell_type": "code",
   "execution_count": null,
   "metadata": {},
   "outputs": [],
   "source": [
    "# get a default value and not throw an error if attribute is not present\n",
    "print(getattr(s2, \"some_attribute\", None))\n"
   ]
  },
  {
   "cell_type": "code",
   "execution_count": null,
   "metadata": {},
   "outputs": [],
   "source": [
    "# delete attribute\n",
    "delattr(s2, \"name\")\n",
    "print(s2.__dict__)\n"
   ]
  },
  {
   "cell_type": "code",
   "execution_count": null,
   "metadata": {},
   "outputs": [],
   "source": [
    "from datetime import datetime\n",
    "import time\n",
    "\n",
    "\n",
    "class Student:\n",
    "    # class attribute -> property of class, not an instance\n",
    "    student_strength = 0\n",
    "    __last_student_registered_time = None\n",
    "\n",
    "    # contructor\n",
    "    def __init__(self, name, roll_no):\n",
    "        # instance attribute -> property of an instance, not a class\n",
    "        self.name = name\n",
    "        self.roll_no = roll_no\n",
    "        self.__registration_time = datetime.now()\n",
    "        # cant access a class attribute as without using class name\n",
    "        # student_strength += 1 -> ERROR\n",
    "        # self.student_strength += 1 -> WRONG (will create instance level attribute)\n",
    "        Student.student_strength += 1\n",
    "        Student.__last_student_registered_time = self.__registration_time\n",
    "\n",
    "    # instance method, these get a reference to the instance\n",
    "    def print_details(self):\n",
    "        print(f'Name: {self.name}')\n",
    "        print(f'Roll Number: {self.roll_no}')\n",
    "        print(f'Registration Time: {self.__formatRegistrationTime()}')\n",
    "\n",
    "    # class method, these get a reference to the class\n",
    "    @classmethod\n",
    "    def print_strength(cls):\n",
    "        print(f'Student Strength: {cls.student_strength}')\n",
    "        print(\n",
    "            f'Last Student Registered Time: {cls.__formatLastRegistrationTime()}')\n",
    "\n",
    "    # class method, these get a reference to the class\n",
    "    @staticmethod\n",
    "    def print_welcome_msg():\n",
    "        print('Welcome to the class!')\n",
    "\n",
    "    def __formatRegistrationTime(self):\n",
    "        return self.__registration_time.strftime('%d/%m/%Y - %H:%M:%S')\n",
    "\n",
    "    @classmethod\n",
    "    def __formatLastRegistrationTime(cls):\n",
    "        return cls.__last_student_registered_time.strftime('%d/%m/%Y - %H:%M:%S')\n",
    "\n",
    "\n",
    "s1 = Student(\"Akash\", 5)\n",
    "time.sleep(1)\n",
    "s2 = Student(\"Prakash\", 6)\n",
    "\n",
    "# we can instance or class to call static method\n",
    "s1.print_welcome_msg()\n",
    "Student.print_welcome_msg()\n",
    "\n",
    "# Student.print_details() -> ERROR (self needs to be passed)\n",
    "Student.print_details(s1)\n",
    "s1.print_details()\n",
    "# so basically when we use instance to call a method the self is sey that instance automatically\n",
    "s2.print_details()\n",
    "\n",
    "# we can instance or class to call class method\n",
    "s1.print_strength()\n",
    "Student.print_strength()\n",
    "\n",
    "# notice that if instance attribute is present then it will get more preference than class attribute\n",
    "print(s2.student_strength)\n",
    "s2.student_strength = 500\n",
    "print(s2.student_strength)\n",
    "\n",
    "# ERROR (accessing private attributes)\n",
    "# print(Student.__last_student_registered_time())\n",
    "# print(s2.__registration_time())\n",
    "\n",
    "# hack to access private attributes\n",
    "print(s2._Student__last_student_registered_time)\n"
   ]
  }
 ],
 "metadata": {
  "kernelspec": {
   "display_name": "Python 3",
   "language": "python",
   "name": "python3"
  },
  "language_info": {
   "codemirror_mode": {
    "name": "ipython",
    "version": 3
   },
   "file_extension": ".py",
   "mimetype": "text/x-python",
   "name": "python",
   "nbconvert_exporter": "python",
   "pygments_lexer": "ipython3",
   "version": "3.10.6"
  },
  "orig_nbformat": 4
 },
 "nbformat": 4,
 "nbformat_minor": 2
}
