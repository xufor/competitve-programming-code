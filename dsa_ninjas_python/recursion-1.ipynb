{
 "cells": [
  {
   "cell_type": "code",
   "execution_count": null,
   "metadata": {},
   "outputs": [],
   "source": [
    "def factorial(n):\n",
    "    if n == 0:\n",
    "        return 1\n",
    "    return n * factorial(n - 1)\n",
    "\n",
    "\n",
    "factorial(5)\n"
   ]
  },
  {
   "cell_type": "markdown",
   "metadata": {},
   "source": [
    "A problem will use recursion as a solution if we see this pattern(of input size) being formed:\n",
    "\n",
    "n input size -> something smaller than n -> something even more smaller -> ....... -> some value at which we can finish computation\n",
    "\n",
    "for factorial its: n -> n-1 -> n-2 -> ..... 1 -> 0\n",
    "\n",
    "This input size pattern has a very important property and its that if we follow n, uptil 0 we observe a pattern and similarly if we follow n-1 (the next step), uptil 0 we see the exact same pattern.\n",
    "\n",
    "lets look at fibonacci:\n",
    "\n",
    "                f(2) -> 1\n",
    "                /\n",
    "            f(3) -> 1\n",
    "            /   \\\n",
    "    2 <- f(4)    f(1) -> 0\n",
    "            \\\n",
    "            f(2) -> 1\n",
    "\n",
    "So fibonacci of 4 wants to get fibonacci of 1 and 2 less numbers i.e. 3 and 2  input size. Fib. of 3 wants to get fibonacci of 1 and 2 less numbers (again) i.e. 2 and 1. Since 1 and 2 are base cases we stop at this input size. But the pattern of input size is clear i.e. get the computation done for 1 and 2 digit less input sizes."
   ]
  },
  {
   "cell_type": "code",
   "execution_count": null,
   "metadata": {},
   "outputs": [],
   "source": [
    "def sum_of_n_natural_numbers(n):\n",
    "    if n == 1:\n",
    "        return 1\n",
    "    return n + sum_of_n_natural_numbers(n - 1)\n",
    "\n",
    "\n",
    "sum_of_n_natural_numbers(10)\n"
   ]
  },
  {
   "cell_type": "code",
   "execution_count": 2,
   "metadata": {},
   "outputs": [
    {
     "data": {
      "text/plain": [
       "1024"
      ]
     },
     "execution_count": 2,
     "metadata": {},
     "output_type": "execute_result"
    }
   ],
   "source": [
    "# find x^n\n",
    "def power(x, n):\n",
    "    if n == 0:\n",
    "        return 1\n",
    "    return x * power(x, n - 1)\n",
    "\n",
    "\n",
    "power(2, 10)"
   ]
  },
  {
   "cell_type": "code",
   "execution_count": null,
   "metadata": {},
   "outputs": [],
   "source": [
    "# considering fibonacci series to be -> 0 1 1 2 3 5 8 13....\n",
    "# here the n means nth term, so if we give 7 then we'll get the 7th term in the sequence\n",
    "def nth_fibonacci(n):\n",
    "    if n == 1:\n",
    "        return 0\n",
    "    if n == 2:\n",
    "        return 1\n",
    "    return nth_fibonacci(n - 1) + nth_fibonacci(n - 2)\n",
    "\n",
    "\n",
    "nth_fibonacci(7)\n"
   ]
  },
  {
   "cell_type": "code",
   "execution_count": null,
   "metadata": {},
   "outputs": [],
   "source": [
    "# function to check if a list is sorted or not\n",
    "def check(l):\n",
    "    if len(l) <= 1:\n",
    "        return True\n",
    "    if l[0] > l[1]:\n",
    "        return False\n",
    "    return check(l[1:])\n",
    "\n",
    "\n",
    "print(check([1, 2, 3, 4, 5]))\n",
    "print(check([1, 2, 8, 5, 6]))\n"
   ]
  },
  {
   "cell_type": "code",
   "execution_count": null,
   "metadata": {},
   "outputs": [],
   "source": [
    "# function to check find sum of numbers of a list\n",
    "def sum(l):\n",
    "    if len(l) == 0:\n",
    "        return 0\n",
    "    return l[0] + sum(l[1:])\n",
    "\n",
    "\n",
    "print(sum([1, 2, 3, 4, 5]))\n"
   ]
  },
  {
   "cell_type": "code",
   "execution_count": null,
   "metadata": {},
   "outputs": [],
   "source": [
    "# function to check if a number n is present in a list\n",
    "def check(l, n):\n",
    "    if len(l) == 0:\n",
    "        return False\n",
    "    if l[0] == n:\n",
    "        return True\n",
    "    return check(l[1:], n)\n",
    "\n",
    "l = [1, 2, 3, 4, 5]\n",
    "\n",
    "print(check(l, 3))\n",
    "print(check(l, 10))\n"
   ]
  },
  {
   "cell_type": "code",
   "execution_count": null,
   "metadata": {},
   "outputs": [],
   "source": [
    "# function to check if a list is sorted or not (without creating a copy of smaller array)\n",
    "def check(l, i=0):\n",
    "    if i == len(l) - 1:\n",
    "        return True\n",
    "    if l[i] > l[i + 1]:\n",
    "        return False\n",
    "    return check(l, i + 1)\n",
    "\n",
    "\n",
    "print(check([1, 2, 3, 4, 5]))\n",
    "print(check([1, 2, 8, 5, 6]))\n"
   ]
  },
  {
   "cell_type": "code",
   "execution_count": null,
   "metadata": {},
   "outputs": [],
   "source": [
    "# program to find first occurance(index) of a number in a list\n",
    "def first(l, n, i = 0):\n",
    "    if i == len(l):\n",
    "        return -1\n",
    "    if l[i] == n:\n",
    "        return i\n",
    "    return first(l, n, i + 1)\n",
    "\n",
    "l = [10, 43, 76, 87, 43, 77, 43]\n",
    "print(first(l, 57))\n",
    "print(first(l, 43))"
   ]
  },
  {
   "cell_type": "code",
   "execution_count": null,
   "metadata": {},
   "outputs": [],
   "source": [
    "# program to find last occurance(index) of a number in a list\n",
    "def last(l, n, i = 0):\n",
    "    if i == len(l):\n",
    "        return -1\n",
    "    result = last(l, n, i + 1)\n",
    "    if result != -1:\n",
    "        return result\n",
    "    if l[i] == n:\n",
    "        return i\n",
    "    return -1\n",
    "\n",
    "l = [10, 43, 76, 87, 43, 77, 43]\n",
    "print(last(l, 57))\n",
    "print(last(l, 43))"
   ]
  }
 ],
 "metadata": {
  "kernelspec": {
   "display_name": "Python 3",
   "language": "python",
   "name": "python3"
  },
  "language_info": {
   "codemirror_mode": {
    "name": "ipython",
    "version": 3
   },
   "file_extension": ".py",
   "mimetype": "text/x-python",
   "name": "python",
   "nbconvert_exporter": "python",
   "pygments_lexer": "ipython3",
   "version": "3.11.4"
  },
  "orig_nbformat": 4,
  "vscode": {
   "interpreter": {
    "hash": "916dbcbb3f70747c44a77c7bcd40155683ae19c65e1c03b4aa3499c5328201f1"
   }
  }
 },
 "nbformat": 4,
 "nbformat_minor": 2
}
