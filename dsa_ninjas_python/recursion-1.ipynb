{
 "cells": [
  {
   "cell_type": "code",
   "execution_count": 1,
   "metadata": {},
   "outputs": [
    {
     "data": {
      "text/plain": [
       "120"
      ]
     },
     "execution_count": 1,
     "metadata": {},
     "output_type": "execute_result"
    }
   ],
   "source": [
    "def factorial(n):\n",
    "    if n == 0:\n",
    "        return 1\n",
    "    return n * factorial(n - 1)\n",
    "\n",
    "\n",
    "factorial(5)\n"
   ]
  },
  {
   "cell_type": "code",
   "execution_count": 2,
   "metadata": {},
   "outputs": [
    {
     "data": {
      "text/plain": [
       "55"
      ]
     },
     "execution_count": 2,
     "metadata": {},
     "output_type": "execute_result"
    }
   ],
   "source": [
    "def sum_of_n_natural_numbers(n):\n",
    "    if n == 1:\n",
    "        return 1\n",
    "    return n + sum_of_n_natural_numbers(n - 1)\n",
    "\n",
    "\n",
    "sum_of_n_natural_numbers(10)\n"
   ]
  },
  {
   "cell_type": "code",
   "execution_count": 3,
   "metadata": {},
   "outputs": [
    {
     "data": {
      "text/plain": [
       "8"
      ]
     },
     "execution_count": 3,
     "metadata": {},
     "output_type": "execute_result"
    }
   ],
   "source": [
    "# considering fibonacci series to be -> 0 1 1 2 3 5 8 13....\n",
    "def nth_fibonacci(n):\n",
    "    if n == 1:\n",
    "        return 0\n",
    "    if n == 2:\n",
    "        return 1\n",
    "    return nth_fibonacci(n - 1) + nth_fibonacci(n - 2)\n",
    "\n",
    "\n",
    "nth_fibonacci(7)\n"
   ]
  },
  {
   "cell_type": "code",
   "execution_count": 4,
   "metadata": {},
   "outputs": [
    {
     "name": "stdout",
     "output_type": "stream",
     "text": [
      "True\n",
      "False\n"
     ]
    }
   ],
   "source": [
    "# function to check if a list is sorted or not\n",
    "def check(l):\n",
    "    if len(l) <= 1:\n",
    "        return True\n",
    "    if l[0] > l[1]:\n",
    "        return False\n",
    "    return check(l[1:])\n",
    "\n",
    "\n",
    "print(check([1, 2, 3, 4, 5]))\n",
    "print(check([1, 2, 8, 5, 6]))\n"
   ]
  },
  {
   "cell_type": "code",
   "execution_count": 5,
   "metadata": {},
   "outputs": [
    {
     "name": "stdout",
     "output_type": "stream",
     "text": [
      "15\n"
     ]
    }
   ],
   "source": [
    "# function to check find sum of numbers of a list\n",
    "def sum(l):\n",
    "    if len(l) == 0:\n",
    "        return 0\n",
    "    return l[0] + sum(l[1:])\n",
    "\n",
    "\n",
    "print(sum([1, 2, 3, 4, 5]))\n"
   ]
  },
  {
   "cell_type": "code",
   "execution_count": 6,
   "metadata": {},
   "outputs": [
    {
     "name": "stdout",
     "output_type": "stream",
     "text": [
      "True\n",
      "False\n"
     ]
    }
   ],
   "source": [
    "# function to check if a number n is present in a list\n",
    "def check(l, n):\n",
    "    if len(l) == 0:\n",
    "        return False\n",
    "    if l[0] == n:\n",
    "        return True\n",
    "    return check(l[1:], n)\n",
    "\n",
    "l = [1, 2, 3, 4, 5]\n",
    "\n",
    "print(check(l, 3))\n",
    "print(check(l, 10))\n"
   ]
  },
  {
   "cell_type": "code",
   "execution_count": 7,
   "metadata": {},
   "outputs": [
    {
     "name": "stdout",
     "output_type": "stream",
     "text": [
      "True\n",
      "False\n"
     ]
    }
   ],
   "source": [
    "# function to check if a list is sorted or not (without creating a copy of smaller array)\n",
    "def check(l, i=0):\n",
    "    if i == len(l) - 1:\n",
    "        return True\n",
    "    if l[i] > l[i + 1]:\n",
    "        return False\n",
    "    return check(l, i + 1)\n",
    "\n",
    "\n",
    "print(check([1, 2, 3, 4, 5]))\n",
    "print(check([1, 2, 8, 5, 6]))\n"
   ]
  },
  {
   "cell_type": "code",
   "execution_count": 8,
   "metadata": {},
   "outputs": [
    {
     "name": "stdout",
     "output_type": "stream",
     "text": [
      "-1\n",
      "1\n"
     ]
    }
   ],
   "source": [
    "# program to find first occurance(index) of a number in a list\n",
    "def first(l, n, i = 0):\n",
    "    if i == len(l):\n",
    "        return -1\n",
    "    if l[i] == n:\n",
    "        return i\n",
    "    return first(l, n, i + 1)\n",
    "\n",
    "l = [10, 43, 76, 87, 43, 77, 43]\n",
    "print(first(l, 57))\n",
    "print(first(l, 43))"
   ]
  },
  {
   "cell_type": "code",
   "execution_count": 9,
   "metadata": {},
   "outputs": [
    {
     "name": "stdout",
     "output_type": "stream",
     "text": [
      "-1\n",
      "6\n"
     ]
    }
   ],
   "source": [
    "# program to find first occurance(index) of a number in a list\n",
    "def last(l, n, i = 0):\n",
    "    if i == len(l):\n",
    "        return -1\n",
    "    result = last(l, n, i + 1)\n",
    "    if result != -1:\n",
    "        return result\n",
    "    if l[i] == n:\n",
    "        return i\n",
    "    return -1\n",
    "\n",
    "l = [10, 43, 76, 87, 43, 77, 43]\n",
    "print(last(l, 57))\n",
    "print(last(l, 43))"
   ]
  }
 ],
 "metadata": {
  "kernelspec": {
   "display_name": "Python 3",
   "language": "python",
   "name": "python3"
  },
  "language_info": {
   "codemirror_mode": {
    "name": "ipython",
    "version": 3
   },
   "file_extension": ".py",
   "mimetype": "text/x-python",
   "name": "python",
   "nbconvert_exporter": "python",
   "pygments_lexer": "ipython3",
   "version": "3.10.6 (main, Nov 14 2022, 16:10:14) [GCC 11.3.0]"
  },
  "orig_nbformat": 4,
  "vscode": {
   "interpreter": {
    "hash": "916dbcbb3f70747c44a77c7bcd40155683ae19c65e1c03b4aa3499c5328201f1"
   }
  }
 },
 "nbformat": 4,
 "nbformat_minor": 2
}
